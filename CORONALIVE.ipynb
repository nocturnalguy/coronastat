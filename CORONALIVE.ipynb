{
 "cells": [
  {
   "cell_type": "code",
   "execution_count": 1,
   "metadata": {},
   "outputs": [],
   "source": [
    "########### IMPORTING THE REQURIED LIBRARIES ###########\n",
    "\n",
    "from bs4 import BeautifulSoup as soup\n",
    "import requests\n",
    "from random import choice\n",
    "from terminaltables import AsciiTable"
   ]
  },
  {
   "cell_type": "code",
   "execution_count": 2,
   "metadata": {},
   "outputs": [],
   "source": [
    "WORLD_URL = \"https://www.worldometers.info/coronavirus/#countries\"\n",
    "MAX_TIMEOUT = 3"
   ]
  },
  {
   "cell_type": "code",
   "execution_count": 3,
   "metadata": {},
   "outputs": [],
   "source": [
    "######## DECLARING THE CLASS FOR SCRAPING SSLPROXIES.COM ########\n",
    "\n",
    "class _proxy:\n",
    "\n",
    "\tPROXY_URL = 'https://sslproxies.org/'\n",
    "\tpage = None\n",
    "\n",
    "\tdef __init__( self ):\n",
    "\t\tself.page = soup( requests.get( self.PROXY_URL ).text, 'lxml' )\n",
    "    \n",
    "\tdef getSSLProxyDictionary( self ):\n",
    " \n",
    "\t\treturn {\n",
    "\t\t'https': choice( list( map( lambda x:x[ 0 ] + ':' + x[ 1 ], list( zip( map( lambda x:x.text, self.page.find( 'table' ).findAll( 'td' )[ ::8 ] ), map( lambda x:x.text, self.page.find( 'table' ).findAll( 'td' )[ 1::8 ] ) ) ) ) ) )\n",
    "\t\t}"
   ]
  },
  {
   "cell_type": "code",
   "execution_count": 4,
   "metadata": {},
   "outputs": [],
   "source": [
    "proxy = _proxy()\n",
    "\n",
    "def _loadDataByIPRotaion( url ):\n",
    "\tcount = 0\n",
    "\tresponse = None\n",
    "    \n",
    "\twhile count < 10:\n",
    "\t\ttry:\n",
    "\t\t\tproxyDictionary = proxy.getSSLProxyDictionary()\n",
    "\n",
    "\t\t\tprint( 'Retry {} Using Proxy : {}'.format( count, proxyDictionary ) )\n",
    "\n",
    "\t\t\tresponse = requests.get( url, proxies = proxyDictionary, timeout = MAX_TIMEOUT )\n",
    "\t\t\tbreak\n",
    "\t\texcept:\n",
    "\t\t\tpass\n",
    "\n",
    "\t\tcount=count+1\n",
    "\n",
    "\treturn response"
   ]
  },
  {
   "cell_type": "code",
   "execution_count": 5,
   "metadata": {},
   "outputs": [],
   "source": [
    "try:\n",
    "    resp = requests.get( WORLD_URL, timeout = MAX_TIMEOUT )\n",
    "    page = soup( resp.text, 'lxml' ) \n",
    "except:\n",
    "    resp = _loadDataByIPRotaion( WORLD_URL )\n",
    "    page = soup( resp.text, 'lxml' )"
   ]
  },
  {
   "cell_type": "code",
   "execution_count": 6,
   "metadata": {},
   "outputs": [],
   "source": [
    "table = page.find( \"table\",{\n",
    "   \"id\": \"main_table_countries_today\" \n",
    "} )"
   ]
  },
  {
   "cell_type": "code",
   "execution_count": 7,
   "metadata": {},
   "outputs": [
    {
     "data": {
      "text/plain": [
       "'446,703'"
      ]
     },
     "execution_count": 7,
     "metadata": {},
     "output_type": "execute_result"
    }
   ],
   "source": [
    "total_cases = page.findAll( \"div\", {\n",
    "    \"id\": \"maincounter-wrap\"\n",
    "} )[ 0 ].div.text.strip()\n",
    "total_cases"
   ]
  },
  {
   "cell_type": "code",
   "execution_count": 8,
   "metadata": {},
   "outputs": [
    {
     "data": {
      "text/plain": [
       "'19,805'"
      ]
     },
     "execution_count": 8,
     "metadata": {},
     "output_type": "execute_result"
    }
   ],
   "source": [
    "total_deaths = page.findAll( \"div\", {\n",
    "    \"id\": \"maincounter-wrap\"\n",
    "} )[ 1 ].div.text.strip()\n",
    "total_deaths"
   ]
  },
  {
   "cell_type": "code",
   "execution_count": 9,
   "metadata": {},
   "outputs": [
    {
     "data": {
      "text/plain": [
       "'112,050'"
      ]
     },
     "execution_count": 9,
     "metadata": {},
     "output_type": "execute_result"
    }
   ],
   "source": [
    "total_recovered = page.findAll( \"div\", {\n",
    "    \"id\": \"maincounter-wrap\"\n",
    "} )[ 2 ].div.text.strip()\n",
    "total_recovered"
   ]
  },
  {
   "cell_type": "code",
   "execution_count": 10,
   "metadata": {},
   "outputs": [],
   "source": [
    "table_heading = [ item.text.strip() for item in table.thead.tr if item != \"\\n\" ]"
   ]
  },
  {
   "cell_type": "code",
   "execution_count": 11,
   "metadata": {},
   "outputs": [],
   "source": [
    "table_content = []\n",
    "for rows in table.tbody:\n",
    "    data = [ item.text.strip() for item in rows if item != \"\\n\" ]\n",
    "    if data:\n",
    "        table_content.append( data[ : -2 ] )"
   ]
  },
  {
   "cell_type": "code",
   "execution_count": 12,
   "metadata": {},
   "outputs": [
    {
     "data": {
      "text/plain": [
       "197"
      ]
     },
     "execution_count": 12,
     "metadata": {},
     "output_type": "execute_result"
    }
   ],
   "source": [
    "len(table_content)"
   ]
  },
  {
   "cell_type": "code",
   "execution_count": 13,
   "metadata": {},
   "outputs": [],
   "source": [
    "table_content.insert( 0, table_heading[ : -2 ] )"
   ]
  },
  {
   "cell_type": "code",
   "execution_count": 14,
   "metadata": {},
   "outputs": [
    {
     "name": "stdout",
     "output_type": "stream",
     "text": [
      "+------------------------+------------+----------+-------------+-----------+----------------+-------------+------------------+\n",
      "| Country,Other          | TotalCases | NewCases | TotalDeaths | NewDeaths | TotalRecovered | ActiveCases | Serious,Critical |\n",
      "+------------------------+------------+----------+-------------+-----------+----------------+-------------+------------------+\n",
      "| China                  | 81,218     | +47      | 3,281       | +4        | 73,650         | 4,287       | 1,399            |\n",
      "| Italy                  | 69,176     |          | 6,820       |           | 8,326          | 54,030      | 3,393            |\n",
      "| USA                    | 60,642     | +5,786   | 817         | +37       | 379            | 59,446      | 1,307            |\n",
      "| Spain                  | 47,610     | +5,552   | 3,434       | +443      | 5,367          | 38,809      | 2,636            |\n",
      "| Germany                | 35,740     | +2,749   | 186         | +27       | 3,540          | 32,014      | 23               |\n",
      "| Iran                   | 27,017     | +2,206   | 2,077       | +143      | 9,625          | 15,315      |                  |\n",
      "| France                 | 22,304     |          | 1,100       |           | 3,281          | 17,923      | 2,516            |\n",
      "| Switzerland            | 10,537     | +660     | 149         | +27       | 131            | 10,257      | 141              |\n",
      "| S. Korea               | 9,137      | +100     | 126         | +6        | 3,730          | 5,281       | 59               |\n",
      "| UK                     | 8,227      | +150     | 433         | +11       | 135            | 7,659       | 20               |\n",
      "| Netherlands            | 6,412      | +852     | 356         | +80       | 3              | 6,053       | 582              |\n",
      "| Austria                | 5,588      | +305     | 30          | +2        | 9              | 5,549       | 28               |\n",
      "| Belgium                | 4,937      | +668     | 178         | +56       | 547            | 4,212       | 474              |\n",
      "| Norway                 | 3,034      | +168     | 14          | +2        | 6              | 3,014       | 57               |\n",
      "| Portugal               | 2,995      | +633     | 43          | +10       | 22             | 2,930       | 61               |\n",
      "| Canada                 | 2,923      | +131     | 28          | +2        | 185            | 2,710       | 1                |\n",
      "| Sweden                 | 2,526      | +227     | 44          | +4        | 16             | 2,466       | 158              |\n",
      "| Australia              | 2,431      | +114     | 9           | +1        | 118            | 2,304       | 11               |\n",
      "| Brazil                 | 2,274      | +27      | 47          | +1        | 2              | 2,225       | 18               |\n",
      "| Israel                 | 2,170      | +240     | 5           | +2        | 58             | 2,107       | 37               |\n",
      "| Turkey                 | 1,874      | +2       | 44          |           |                | 1,830       |                  |\n",
      "| Malaysia               | 1,796      | +172     | 20          | +4        | 199            | 1,577       | 64               |\n",
      "| Denmark                | 1,715      | +124     | 34          | +2        | 1              | 1,680       | 69               |\n",
      "| Czechia                | 1,497      | +103     | 5           | +2        | 10             | 1,482       | 19               |\n",
      "| Luxembourg             | 1,333      | +234     | 8           |           | 6              | 1,319       | 3                |\n",
      "| Ireland                | 1,329      |          | 7           |           | 5              | 1,317       | 29               |\n",
      "| Japan                  | 1,193      |          | 43          |           | 285            | 865         | 54               |\n",
      "| Ecuador                | 1,173      | +91      | 28          | +1        | 3              | 1,142       | 2                |\n",
      "| Chile                  | 1,142      | +220     | 3           | +1        | 22             | 1,117       | 7                |\n",
      "| Pakistan               | 1,022      | +50      | 8           | +1        | 21             | 993         | 5                |\n",
      "| Poland                 | 957        | +56      | 13          | +3        | 2              | 942         | 3                |\n",
      "| Thailand               | 934        | +107     | 4           |           | 70             | 860         | 11               |\n",
      "| Romania                | 906        | +112     | 14          | +2        | 86             | 806         | 18               |\n",
      "| Saudi Arabia           | 900        | +133     | 2           | +1        | 29             | 869         |                  |\n",
      "| Finland                | 880        | +88      | 3           | +2        | 10             | 867         | 22               |\n",
      "| Greece                 | 821        | +78      | 22          | +2        | 36             | 763         | 53               |\n",
      "| Indonesia              | 790        | +104     | 58          | +3        | 31             | 701         |                  |\n",
      "| Iceland                | 737        | +89      | 2           |           | 56             | 679         | 11               |\n",
      "| Diamond Princess       | 712        |          | 10          |           | 587            | 115         | 15               |\n",
      "| South Africa           | 709        | +155     |             |           | 12             | 697         | 2                |\n",
      "| Russia                 | 658        | +163     | 1           |           | 29             | 628         | 8                |\n",
      "| Philippines            | 636        | +84      | 38          | +3        | 26             | 572         | 1                |\n",
      "| Singapore              | 631        | +73      | 2           |           | 160            | 469         | 17               |\n",
      "| India                  | 606        | +70      | 10          |           | 42             | 554         |                  |\n",
      "| Slovenia               | 528        | +48      | 5           | +1        | 10             | 513         | 14               |\n",
      "| Qatar                  | 526        |          |             |           | 41             | 485         | 6                |\n",
      "| Panama                 | 443        |          | 8           | +2        | 1              | 434         | 33               |\n",
      "| Egypt                  | 442        | +40      | 21          | +1        | 93             | 328         |                  |\n",
      "| Croatia                | 442        | +60      | 1           |           | 22             | 419         | 6                |\n",
      "| Bahrain                | 419        | +27      | 3           |           | 177            | 239         | 2                |\n",
      "| Peru                   | 416        |          | 7           |           | 1              | 408         | 9                |\n",
      "| Hong Kong              | 410        | +23      | 4           |           | 102            | 304         | 4                |\n",
      "| Mexico                 | 405        | +38      | 5           | +1        | 4              | 396         | 1                |\n",
      "| Estonia                | 404        | +35      | 1           | +1        | 8              | 395         | 5                |\n",
      "| Dominican Republic     | 392        | +80      | 10          | +4        | 3              | 379         |                  |\n",
      "| Argentina              | 387        |          | 8           | +2        | 52             | 327         |                  |\n",
      "| Serbia                 | 384        | +81      | 4           | +1        | 15             | 365         | 21               |\n",
      "| Colombia               | 378        |          | 3           |           | 6              | 369         |                  |\n",
      "| Iraq                   | 346        | +30      | 29          | +2        | 103            | 214         |                  |\n",
      "| Lebanon                | 333        | +15      | 4           |           | 8              | 321         | 4                |\n",
      "| UAE                    | 333        | +85      | 2           |           | 52             | 279         | 2                |\n",
      "| Algeria                | 302        | +38      | 21          | +2        | 65             | 216         |                  |\n",
      "| Armenia                | 265        | +16      |             |           | 16             | 249         | 6                |\n",
      "| Lithuania              | 255        | +46      | 4           | +2        | 1              | 250         | 1                |\n",
      "| Bulgaria               | 242        | +24      | 3           |           | 4              | 235         | 8                |\n",
      "| Taiwan                 | 235        | +19      | 2           |           | 29             | 204         |                  |\n",
      "| Hungary                | 226        | +39      | 10          | +1        | 21             | 195         | 6                |\n",
      "| Latvia                 | 221        | +24      |             |           | 1              | 220         |                  |\n",
      "| Slovakia               | 216        | +12      |             |           | 7              | 209         | 2                |\n",
      "| New Zealand            | 205        |          |             |           | 22             | 183         |                  |\n",
      "| Kuwait                 | 195        | +4       |             |           | 43             | 152         | 6                |\n",
      "| Uruguay                | 189        |          |             |           |                | 189         | 3                |\n",
      "| Andorra                | 188        | +24      | 1           |           | 1              | 186         | 6                |\n",
      "| San Marino             | 187        |          | 21          |           | 4              | 162         | 12               |\n",
      "| North Macedonia        | 177        | +29      | 3           | +1        | 1              | 173         | 1                |\n",
      "| Costa Rica             | 177        |          | 2           |           | 2              | 173         | 4                |\n",
      "| Tunisia                | 173        | +59      | 5           | +1        | 2              | 166         | 11               |\n",
      "| Morocco                | 170        |          | 5           |           | 6              | 159         | 1                |\n",
      "| Bosnia and Herzegovina | 168        |          | 3           |           | 2              | 163         | 1                |\n",
      "| Jordan                 | 154        |          |             |           | 1              | 153         |                  |\n",
      "| Moldova                | 149        | +24      | 1           |           | 2              | 146         | 20               |\n",
      "| Albania                | 146        | +23      | 5           |           | 17             | 124         | 3                |\n",
      "| Vietnam                | 141        | +7       |             |           | 17             | 124         | 3                |\n",
      "| Cyprus                 | 132        | +8       | 3           |           | 3              | 126         | 3                |\n",
      "| Faeroe Islands         | 132        | +10      |             |           | 38             | 94          | 2                |\n",
      "| Malta                  | 129        | +19      |             |           | 2              | 127         | 1                |\n",
      "| Ukraine                | 116        | +14      | 4           | +1        | 1              | 111         |                  |\n",
      "| Burkina Faso           | 114        |          | 4           |           | 7              | 103         |                  |\n",
      "| Réunion                | 111        | +17      |             |           | 1              | 110         |                  |\n",
      "| Brunei                 | 109        | +5       |             |           | 2              | 107         | 1                |\n",
      "| Sri Lanka              | 102        |          |             |           | 3              | 99          | 2                |\n",
      "| Oman                   | 99         | +15      |             |           | 17             | 82          |                  |\n",
      "| Senegal                | 99         | +13      |             |           | 9              | 90          |                  |\n",
      "| Cambodia               | 96         | +5       |             |           | 10             | 86          | 1                |\n",
      "| Azerbaijan             | 93         | +6       | 2           | +1        | 10             | 81          | 6                |\n",
      "| Venezuela              | 91         | +7       |             |           | 15             | 76          | 2                |\n",
      "| Belarus                | 86         | +5       |             |           | 29             | 57          | 2                |\n",
      "| Afghanistan            | 84         | +10      | 2           | +1        | 2              | 80          |                  |\n",
      "| Kazakhstan             | 80         | +8       |             |           |                | 80          |                  |\n",
      "| Guadeloupe             | 73         |          | 1           |           |                | 72          | 4                |\n",
      "| Georgia                | 73         | +3       |             |           | 10             | 63          | 1                |\n",
      "| Ivory Coast            | 73         |          |             |           | 2              | 71          |                  |\n",
      "| Cameroon               | 70         | +4       | 1           |           | 2              | 67          |                  |\n",
      "| Ghana                  | 68         | +15      | 3           | +1        |                | 65          |                  |\n",
      "| Palestine              | 64         | +4       | 1           | +1        | 16             | 47          |                  |\n",
      "| Trinidad and Tobago    | 60         | +3       |             |           |                | 60          |                  |\n",
      "| Cuba                   | 57         | +9       | 1           |           | 1              | 55          | 2                |\n",
      "| Martinique             | 57         |          | 1           |           |                | 56          | 7                |\n",
      "| Uzbekistan             | 56         | +6       |             |           |                | 56          | 4                |\n",
      "| Montenegro             | 52         | +5       | 1           |           |                | 51          |                  |\n",
      "| Liechtenstein          | 51         |          |             |           |                | 51          |                  |\n",
      "| DRC                    | 48         | +3       | 2           |           |                | 46          |                  |\n",
      "| Mauritius              | 48         | +6       | 2           |           |                | 46          | 1                |\n",
      "| Nigeria                | 46         | +2       | 1           |           | 2              | 43          |                  |\n",
      "| Kyrgyzstan             | 44         | +2       |             |           |                | 44          |                  |\n",
      "| Rwanda                 | 40         |          |             |           |                | 40          |                  |\n",
      "| Bangladesh             | 39         |          | 5           | +1        | 7              | 27          |                  |\n",
      "| Channel Islands        | 39         | +3       |             |           |                | 39          |                  |\n",
      "| Paraguay               | 37         | +10      | 3           | +1        |                | 34          | 1                |\n",
      "| Honduras               | 36         | +6       |             |           |                | 36          |                  |\n",
      "| Mayotte                | 36         |          |             |           |                | 36          |                  |\n",
      "| Bolivia                | 32         | +3       |             |           |                | 32          |                  |\n",
      "| Macao                  | 30         | +1       |             |           | 10             | 20          |                  |\n",
      "| Kenya                  | 28         | +3       |             |           | 1              | 27          |                  |\n",
      "| Monaco                 | 27         | +4       |             |           | 1              | 26          |                  |\n",
      "| Gibraltar              | 26         | +11      |             |           | 5              | 21          |                  |\n",
      "| Jamaica                | 25         | +4       | 1           |           | 2              | 22          |                  |\n",
      "| French Polynesia       | 25         |          |             |           |                | 25          |                  |\n",
      "| French Guiana          | 23         |          |             |           | 6              | 17          |                  |\n",
      "| Isle of Man            | 23         |          |             |           |                | 23          |                  |\n",
      "| Togo                   | 23         | +3       |             |           | 1              | 22          |                  |\n",
      "| Guatemala              | 21         |          | 1           |           |                | 20          |                  |\n",
      "| Madagascar             | 19         | +2       |             |           |                | 19          |                  |\n",
      "| Barbados               | 18         |          |             |           |                | 18          |                  |\n",
      "| Aruba                  | 17         |          |             |           | 1              | 16          |                  |\n",
      "| New Caledonia          | 14         | +4       |             |           |                | 14          |                  |\n",
      "| Uganda                 | 14         | +5       |             |           |                | 14          |                  |\n",
      "| Maldives               | 13         |          |             |           | 8              | 5           |                  |\n",
      "| Ethiopia               | 12         |          |             |           |                | 12          |                  |\n",
      "| Tanzania               | 12         |          |             |           |                | 12          |                  |\n",
      "| Zambia                 | 12         | +9       |             |           |                | 12          |                  |\n",
      "| Djibouti               | 11         | +8       |             |           |                | 11          |                  |\n",
      "| Mongolia               | 10         |          |             |           |                | 10          |                  |\n",
      "| El Salvador            | 9          | +4       |             |           |                | 9           |                  |\n",
      "| Equatorial Guinea      | 9          |          |             |           |                | 9           |                  |\n",
      "| Saint Martin           | 8          |          |             |           |                | 8           |                  |\n",
      "| Suriname               | 8          | +1       |             |           |                | 8           |                  |\n",
      "| Niger                  | 7          | +4       | 1           | +1        |                | 6           |                  |\n",
      "| Dominica               | 7          |          |             |           |                | 7           |                  |\n",
      "| Haiti                  | 7          |          |             |           |                | 7           |                  |\n",
      "| Namibia                | 7          |          |             |           | 2              | 5           |                  |\n",
      "| Seychelles             | 7          |          |             |           |                | 7           |                  |\n",
      "| Cayman Islands         | 6          |          | 1           |           |                | 5           |                  |\n",
      "| Curaçao                | 6          |          | 1           |           |                | 5           |                  |\n",
      "| Gabon                  | 6          |          | 1           |           |                | 5           |                  |\n",
      "| Benin                  | 6          |          |             |           |                | 6           |                  |\n",
      "| Bermuda                | 6          |          |             |           |                | 6           |                  |\n",
      "| Greenland              | 6          | +1       |             |           | 2              | 4           |                  |\n",
      "| Guyana                 | 5          |          | 1           |           |                | 4           |                  |\n",
      "| Bahamas                | 5          |          |             |           | 1              | 4           |                  |\n",
      "| Fiji                   | 5          | +1       |             |           |                | 5           |                  |\n",
      "| Mozambique             | 5          | +2       |             |           |                | 5           |                  |\n",
      "| Cabo Verde             | 4          | +1       | 1           |           |                | 3           |                  |\n",
      "| Congo                  | 4          |          |             |           |                | 4           |                  |\n",
      "| Guinea                 | 4          |          |             |           |                | 4           |                  |\n",
      "| Vatican City           | 4          |          |             |           |                | 4           |                  |\n",
      "| Eswatini               | 4          |          |             |           |                | 4           |                  |\n",
      "| Syria                  | 4          | +3       |             |           |                | 4           |                  |\n",
      "| Gambia                 | 3          |          | 1           |           |                | 2           |                  |\n",
      "| Sudan                  | 3          |          | 1           |           |                | 2           |                  |\n",
      "| Zimbabwe               | 3          |          | 1           |           |                | 2           |                  |\n",
      "| Nepal                  | 3          | +1       |             |           | 1              | 2           |                  |\n",
      "| Angola                 | 3          |          |             |           |                | 3           |                  |\n",
      "| Antigua and Barbuda    | 3          |          |             |           |                | 3           |                  |\n",
      "| CAR                    | 3          |          |             |           |                | 3           |                  |\n",
      "| Chad                   | 3          |          |             |           |                | 3           |                  |\n",
      "| Laos                   | 3          | +1       |             |           |                | 3           |                  |\n",
      "| Liberia                | 3          |          |             |           |                | 3           |                  |\n",
      "| Myanmar                | 3          |          |             |           |                | 3           |                  |\n",
      "| St. Barth              | 3          |          |             |           |                | 3           |                  |\n",
      "| Saint Lucia            | 3          |          |             |           |                | 3           |                  |\n",
      "| Bhutan                 | 2          |          |             |           |                | 2           |                  |\n",
      "| Guinea-Bissau          | 2          | +2       |             |           |                | 2           |                  |\n",
      "| Mali                   | 2          | +2       |             |           |                | 2           |                  |\n",
      "| Mauritania             | 2          |          |             |           |                | 2           |                  |\n",
      "| Nicaragua              | 2          |          |             |           |                | 2           |                  |\n",
      "| Sint Maarten           | 2          |          |             |           |                | 2           |                  |\n",
      "| Belize                 | 1          |          |             |           |                | 1           |                  |\n",
      "| Eritrea                | 1          |          |             |           |                | 1           |                  |\n",
      "| Grenada                | 1          |          |             |           |                | 1           |                  |\n",
      "| Libya                  | 1          |          |             |           |                | 1           |                  |\n",
      "| Montserrat             | 1          |          |             |           |                | 1           |                  |\n",
      "| Papua New Guinea       | 1          |          |             |           |                | 1           |                  |\n",
      "| St. Vincent Grenadines | 1          |          |             |           |                | 1           |                  |\n",
      "| Somalia                | 1          |          |             |           |                | 1           |                  |\n",
      "| Timor-Leste            | 1          |          |             |           |                | 1           |                  |\n",
      "| Turks and Caicos       | 1          |          |             |           |                | 1           |                  |\n",
      "+------------------------+------------+----------+-------------+-----------+----------------+-------------+------------------+\n"
     ]
    }
   ],
   "source": [
    "table = AsciiTable(table_content)\n",
    "print( table.table )"
   ]
  },
  {
   "cell_type": "code",
   "execution_count": 15,
   "metadata": {},
   "outputs": [],
   "source": [
    "import sys"
   ]
  },
  {
   "cell_type": "code",
   "execution_count": 16,
   "metadata": {},
   "outputs": [],
   "source": [
    "INDIA_URL = \"https://www.mohfw.gov.in/\""
   ]
  },
  {
   "cell_type": "code",
   "execution_count": 17,
   "metadata": {},
   "outputs": [],
   "source": [
    "try:\n",
    "    resp = requests.get( INDIA_URL, timeout = MAX_TIMEOUT )\n",
    "    page = soup( resp.text, 'lxml' ) \n",
    "except:\n",
    "    resp = _loadDataByIPRotaion( INDIA_URL )\n",
    "    page = soup( resp.text, 'lxml' )"
   ]
  },
  {
   "cell_type": "code",
   "execution_count": 31,
   "metadata": {},
   "outputs": [],
   "source": [
    "table = page.findAll( \"div\",{\n",
    "   \"class\": \"table-responsive\" \n",
    "} )[ 7 ]"
   ]
  },
  {
   "cell_type": "code",
   "execution_count": 43,
   "metadata": {},
   "outputs": [
    {
     "data": {
      "text/plain": [
       "606"
      ]
     },
     "execution_count": 43,
     "metadata": {},
     "output_type": "execute_result"
    }
   ],
   "source": [
    "total_cases = int( page.findAll( \"div\",{\n",
    "   \"class\": \"table-responsive\" \n",
    "} )[ 7 ].tbody.findAll( \"tr\" )[ -1 : ][ 0 ].findAll( \"td\" )[ 1 ].text.strip() )\n",
    "\n",
    "total_cases += int( page.findAll( \"div\",{\n",
    "   \"class\": \"table-responsive\" \n",
    "} )[ 7 ].tbody.findAll( \"tr\" )[ -1 : ][ 0 ].findAll( \"td\" )[ 2 ].text.strip() )\n",
    "\n",
    "total_cases"
   ]
  },
  {
   "cell_type": "code",
   "execution_count": 19,
   "metadata": {},
   "outputs": [],
   "source": [
    "table_heading = [ item.text.strip() for item in table.thead.tr if item != \"\\n\" ]"
   ]
  },
  {
   "cell_type": "code",
   "execution_count": 20,
   "metadata": {},
   "outputs": [
    {
     "data": {
      "text/plain": [
       "['S. No.',\n",
       " 'Name of State / UT',\n",
       " 'Total Confirmed cases (Indian National)',\n",
       " 'Total Confirmed cases ( Foreign National )',\n",
       " 'Cured/Discharged/Migrated',\n",
       " 'Death']"
      ]
     },
     "execution_count": 20,
     "metadata": {},
     "output_type": "execute_result"
    }
   ],
   "source": [
    "table_heading"
   ]
  },
  {
   "cell_type": "code",
   "execution_count": 21,
   "metadata": {},
   "outputs": [],
   "source": [
    "table_content = []\n",
    "for rows in table.tbody:\n",
    "    data = [ item.text.strip() for item in rows if item != \"\\n\" ]\n",
    "    if data:\n",
    "        table_content.append( data[ : -2 ] )"
   ]
  },
  {
   "cell_type": "code",
   "execution_count": 22,
   "metadata": {},
   "outputs": [],
   "source": [
    "table_content.insert( 0, table_heading[ : -2 ] )"
   ]
  },
  {
   "cell_type": "code",
   "execution_count": 23,
   "metadata": {},
   "outputs": [
    {
     "name": "stdout",
     "output_type": "stream",
     "text": [
      "+------------------------------------------+--------------------+-----------------------------------------+--------------------------------------------+\n",
      "| S. No.                                   | Name of State / UT | Total Confirmed cases (Indian National) | Total Confirmed cases ( Foreign National ) |\n",
      "+------------------------------------------+--------------------+-----------------------------------------+--------------------------------------------+\n",
      "| 1                                        | Andhra Pradesh     | 9                                       | 0                                          |\n",
      "| 2                                        | Bihar              | 4                                       | 0                                          |\n",
      "| 3                                        | Chhattisgarh       | 1                                       | 0                                          |\n",
      "| 4                                        | Delhi              | 30                                      | 1                                          |\n",
      "| 5                                        | Gujarat            | 37                                      | 1                                          |\n",
      "| 6                                        | Haryana            | 14                                      | 14                                         |\n",
      "| 7                                        | Himachal Pradesh   | 3                                       | 0                                          |\n",
      "| 8                                        | Karnataka          | 41                                      | 0                                          |\n",
      "| 9                                        | Kerala             | 101                                     | 8                                          |\n",
      "| 10                                       | Madhya Pradesh     | 14                                      | 0                                          |\n",
      "| 11                                       | Maharashtra        | 125                                     | 3                                          |\n",
      "| 12                                       | Manipur            | 1                                       | 0                                          |\n",
      "| 13                                       | Mizoram            | 1                                       | 0                                          |\n",
      "| 14                                       | Odisha             | 2                                       | 0                                          |\n",
      "| 15                                       | Puducherry         | 1                                       | 0                                          |\n",
      "| 16                                       | Punjab             | 29                                      | 0                                          |\n",
      "| 17                                       | Rajasthan          | 34                                      | 2                                          |\n",
      "| 18                                       | Tamil Nadu         | 16                                      | 2                                          |\n",
      "| 19                                       | Telengana          | 25                                      | 10                                         |\n",
      "| 20                                       | Chandigarh         | 7                                       | 0                                          |\n",
      "| 21                                       | Jammu and Kashmir  | 7                                       | 0                                          |\n",
      "| 22                                       | Ladakh             | 13                                      | 0                                          |\n",
      "| 23                                       | Uttar Pradesh      | 36                                      | 1                                          |\n",
      "| 24                                       | Uttarakhand        | 3                                       | 1                                          |\n",
      "| 25                                       | West Bengal        | 9                                       | 0                                          |\n",
      "| Total number of confirmed cases in India | 563                | 43                                      |                                            |\n",
      "+------------------------------------------+--------------------+-----------------------------------------+--------------------------------------------+\n"
     ]
    }
   ],
   "source": [
    "table = AsciiTable(table_content)\n",
    "print( table.table )"
   ]
  },
  {
   "cell_type": "code",
   "execution_count": 44,
   "metadata": {},
   "outputs": [],
   "source": [
    "import scipy"
   ]
  },
  {
   "cell_type": "code",
   "execution_count": null,
   "metadata": {},
   "outputs": [],
   "source": []
  }
 ],
 "metadata": {
  "kernelspec": {
   "display_name": "Python 3",
   "language": "python",
   "name": "python3"
  },
  "language_info": {
   "codemirror_mode": {
    "name": "ipython",
    "version": 3
   },
   "file_extension": ".py",
   "mimetype": "text/x-python",
   "name": "python",
   "nbconvert_exporter": "python",
   "pygments_lexer": "ipython3",
   "version": "3.7.3"
  }
 },
 "nbformat": 4,
 "nbformat_minor": 2
}
