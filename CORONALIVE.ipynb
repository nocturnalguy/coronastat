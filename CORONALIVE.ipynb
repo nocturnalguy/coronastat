{
 "cells": [
  {
   "cell_type": "code",
   "execution_count": 1,
   "metadata": {},
   "outputs": [],
   "source": [
    "########### IMPORTING THE REQURIED LIBRARIES ###########\n",
    "\n",
    "from bs4 import BeautifulSoup as soup\n",
    "import requests\n",
    "import json\n",
    "from random import choice\n",
    "from terminaltables import AsciiTable"
   ]
  },
  {
   "cell_type": "code",
   "execution_count": 2,
   "metadata": {},
   "outputs": [],
   "source": [
    "BASE_URL = \"https://www.worldometers.info/coronavirus/#countries\"\n",
    "MAX_TIMEOUT = 3"
   ]
  },
  {
   "cell_type": "code",
   "execution_count": 3,
   "metadata": {},
   "outputs": [],
   "source": [
    "######## DECLARING THE CLASS FOR SCRAPING SSLPROXIES.COM ########\n",
    "\n",
    "class _proxy:\n",
    "\n",
    "\tPROXY_URL = 'https://sslproxies.org/'\n",
    "\tpage = None\n",
    "\n",
    "\tdef __init__( self ):\n",
    "\t\tself.page = soup( requests.get( self.PROXY_URL ).text, 'lxml' )\n",
    "    \n",
    "\tdef getSSLProxyDictionary( self ):\n",
    " \n",
    "\t\treturn {\n",
    "\t\t'https': choice( list( map( lambda x:x[ 0 ] + ':' + x[ 1 ], list( zip( map( lambda x:x.text, self.page.find( 'table' ).findAll( 'td' )[ ::8 ] ), map( lambda x:x.text, self.page.find( 'table' ).findAll( 'td' )[ 1::8 ] ) ) ) ) ) )\n",
    "\t\t}"
   ]
  },
  {
   "cell_type": "code",
   "execution_count": 4,
   "metadata": {},
   "outputs": [],
   "source": [
    "proxy = _proxy()\n",
    "\n",
    "def _loadDataByIPRotaion( url ):\n",
    "\tcount = 0\n",
    "\tresponse = None\n",
    "    \n",
    "\twhile count < 10:\n",
    "\t\ttry:\n",
    "\t\t\tproxyDictionary = proxy.getSSLProxyDictionary()\n",
    "\n",
    "\t\t\tprint( 'Retry {} Using Proxy : {}'.format( count, proxyDictionary ) )\n",
    "\n",
    "\t\t\tresponse = requests.get( url, proxies = proxyDictionary, timeout = MAX_TIMEOUT )\n",
    "\t\t\tbreak\n",
    "\t\texcept:\n",
    "\t\t\tpass\n",
    "\n",
    "\t\tcount=count+1\n",
    "\n",
    "\treturn response"
   ]
  },
  {
   "cell_type": "code",
   "execution_count": 5,
   "metadata": {},
   "outputs": [],
   "source": [
    "try:\n",
    "    resp = requests.get( BASE_URL, timeout = MAX_TIMEOUT )\n",
    "    page = soup( resp.text, 'lxml' ) \n",
    "except:\n",
    "    resp = _loadDataByIPRotaion( BASE_URL )\n",
    "    page = soup( resp.text, 'lxml' )"
   ]
  },
  {
   "cell_type": "code",
   "execution_count": 38,
   "metadata": {},
   "outputs": [],
   "source": [
    "table = page.find( \"table\",{\n",
    "   \"id\": \"main_table_countries_today\" \n",
    "} )"
   ]
  },
  {
   "cell_type": "code",
   "execution_count": 39,
   "metadata": {},
   "outputs": [],
   "source": [
    "table_heading = [ item.text.strip() for item in table.thead.tr if item != \"\\n\" ]"
   ]
  },
  {
   "cell_type": "code",
   "execution_count": 40,
   "metadata": {},
   "outputs": [],
   "source": [
    "table_content = []\n",
    "for rows in table.tbody:\n",
    "    data = [ item.text.strip() for item in rows if item != \"\\n\" ]\n",
    "    if data:\n",
    "        table_content.append( data[ : -2 ] )"
   ]
  },
  {
   "cell_type": "code",
   "execution_count": 41,
   "metadata": {},
   "outputs": [
    {
     "data": {
      "text/plain": [
       "197"
      ]
     },
     "execution_count": 41,
     "metadata": {},
     "output_type": "execute_result"
    }
   ],
   "source": [
    "len(table_content)"
   ]
  },
  {
   "cell_type": "code",
   "execution_count": 42,
   "metadata": {},
   "outputs": [],
   "source": [
    "table_content.insert( 0, table_heading[ : -2 ] )"
   ]
  },
  {
   "cell_type": "code",
   "execution_count": 43,
   "metadata": {},
   "outputs": [
    {
     "name": "stdout",
     "output_type": "stream",
     "text": [
      "+------------------------+------------+----------+-------------+-----------+----------------+-------------+------------------+\n",
      "| Country,Other          | TotalCases | NewCases | TotalDeaths | NewDeaths | TotalRecovered | ActiveCases | Serious,Critical |\n",
      "+------------------------+------------+----------+-------------+-----------+----------------+-------------+------------------+\n",
      "| China                  | 81,171     | +78      | 3,277       | +7        | 73,159         | 4,735       | 1,573            |\n",
      "| Italy                  | 69,176     | +5,249   | 6,820       | +743      | 8,326          | 54,030      | 3,393            |\n",
      "| USA                    | 49,594     | +5,860   | 622         | +69       | 361            | 48,611      | 1,175            |\n",
      "| Spain                  | 39,676     | +4,540   | 2,800       | +489      | 3,794          | 33,082      | 2,355            |\n",
      "| Germany                | 31,991     | +2,935   | 149         | +26       | 749            | 31,093      | 23               |\n",
      "| Iran                   | 24,811     | +1,762   | 1,934       | +122      | 8,913          | 13,964      |                  |\n",
      "| France                 | 19,856     |          | 860         |           | 2,200          | 16,796      | 2,082            |\n",
      "| Switzerland            | 9,117      | +322     | 122         | +2        | 131            | 8,864       | 141              |\n",
      "| S. Korea               | 9,037      | +76      | 120         | +9        | 3,507          | 5,410       | 59               |\n",
      "| UK                     | 8,077      | +1,427   | 422         | +87       | 135            | 7,520       | 20               |\n",
      "| Netherlands            | 5,560      | +811     | 276         | +63       | 2              | 5,282       | 435              |\n",
      "| Austria                | 5,010      | +536     | 28          | +7        | 9              | 4,973       | 22               |\n",
      "| Belgium                | 4,269      | +526     | 122         | +34       | 461            | 3,686       | 381              |\n",
      "| Norway                 | 2,768      | +143     | 12          | +2        | 6              | 2,750       | 44               |\n",
      "| Portugal               | 2,362      | +302     | 33          | +10       | 22             | 2,307       | 48               |\n",
      "| Sweden                 | 2,286      | +240     | 36          | +9        | 16             | 2,234       | 136              |\n",
      "| Canada                 | 2,177      | +86      | 24          |           | 112            | 2,041       | 1                |\n",
      "| Australia              | 2,144      | +257     | 8           | +1        | 118            | 2,018       | 11               |\n",
      "| Brazil                 | 1,980      | +56      | 34          |           | 2              | 1,944       | 18               |\n",
      "| Israel                 | 1,656      | +214     | 2           | +1        | 49             | 1,605       | 31               |\n",
      "| Malaysia               | 1,624      | +106     | 15          | +1        | 183            | 1,426       | 64               |\n",
      "| Denmark                | 1,591      | +131     | 32          | +8        | 1              | 1,558       | 69               |\n",
      "| Turkey                 | 1,529      |          | 37          |           |                | 1,492       |                  |\n",
      "| Czechia                | 1,394      | +158     | 2           | +1        | 8              | 1,384       | 19               |\n",
      "| Japan                  | 1,140      | +12      | 42          |           | 285            | 813         | 54               |\n",
      "| Ireland                | 1,125      |          | 6           |           | 5              | 1,114       | 29               |\n",
      "| Luxembourg             | 1,099      | +224     | 8           |           | 6              | 1,085       | 3                |\n",
      "| Ecuador                | 1,049      | +68      | 27          | +9        | 3              | 1,019       | 2                |\n",
      "| Pakistan               | 958        | +83      | 7           | +1        | 13             | 938         |                  |\n",
      "| Chile                  | 922        | +176     | 2           |           | 17             | 903         | 7                |\n",
      "| Poland                 | 848        | +99      | 9           | +1        | 1              | 838         | 3                |\n",
      "| Thailand               | 827        | +106     | 4           | +3        | 52             | 771         | 7                |\n",
      "| Finland                | 792        | +92      | 1           |           | 10             | 781         | 11               |\n",
      "| Saudi Arabia           | 767        | +205     | 1           | +1        | 28             | 738         |                  |\n",
      "| Romania                | 762        | +186     | 8           | +1        | 79             | 675         | 15               |\n",
      "| Greece                 | 743        | +48      | 20          | +3        | 29             | 694         | 35               |\n",
      "| Diamond Princess       | 712        |          | 10          | +2        | 587            | 115         | 15               |\n",
      "| Indonesia              | 686        | +107     | 55          | +6        | 30             | 601         |                  |\n",
      "| Iceland                | 648        | +60      | 2           | +1        | 51             | 595         | 13               |\n",
      "| Singapore              | 558        | +49      | 2           |           | 156            | 400         | 14               |\n",
      "| South Africa           | 554        | +152     |             |           | 4              | 550         | 2                |\n",
      "| Philippines            | 552        | +90      | 35          | +2        | 20             | 497         | 1                |\n",
      "| India                  | 519        | +20      | 10          |           | 40             | 469         |                  |\n",
      "| Qatar                  | 501        |          |             |           | 37             | 464         | 6                |\n",
      "| Russia                 | 495        | +57      | 1           |           | 22             | 472         | 8                |\n",
      "| Slovenia               | 480        | +38      | 4           | +1        | 3              | 473         | 12               |\n",
      "| Peru                   | 395        |          | 5           |           | 1              | 389         | 19               |\n",
      "| Bahrain                | 390        | +13      | 3           | +1        | 177            | 210         | 2                |\n",
      "| Hong Kong              | 386        | +29      | 4           |           | 102            | 280         | 4                |\n",
      "| Croatia                | 382        | +67      | 1           |           | 5              | 376         | 6                |\n",
      "| Estonia                | 369        | +17      |             |           | 7              | 362         | 4                |\n",
      "| Mexico                 | 367        | +51      | 4           | +1        | 4              | 359         | 1                |\n",
      "| Egypt                  | 366        |          | 19          |           | 68             | 279         |                  |\n",
      "| Panama                 | 345        |          | 6           |           | 1              | 338         | 33               |\n",
      "| Iraq                   | 316        | +50      | 27          | +4        | 75             | 214         |                  |\n",
      "| Dominican Republic     | 312        | +67      | 6           | +3        | 3              | 303         |                  |\n",
      "| Colombia               | 306        | +29      | 3           |           | 6              | 297         |                  |\n",
      "| Lebanon                | 304        | +37      | 4           |           | 8              | 292         | 4                |\n",
      "| Serbia                 | 303        | +54      | 3           |           | 15             | 285         | 21               |\n",
      "| Argentina              | 301        |          | 5           | +1        | 51             | 245         |                  |\n",
      "| Algeria                | 264        | +34      | 19          | +2        | 24             | 221         |                  |\n",
      "| Armenia                | 249        | +14      |             |           | 4              | 245         | 6                |\n",
      "| UAE                    | 248        | +50      | 2           |           | 45             | 201         | 2                |\n",
      "| Bulgaria               | 218        | +17      | 3           |           | 3              | 212         | 8                |\n",
      "| Taiwan                 | 216        | +21      | 2           |           | 29             | 185         |                  |\n",
      "| Slovakia               | 204        | +18      |             |           | 7              | 197         | 2                |\n",
      "| Lithuania              | 203        | +24      | 1           |           | 1              | 201         | 1                |\n",
      "| Latvia                 | 197        | +17      |             |           | 1              | 196         |                  |\n",
      "| Kuwait                 | 191        | +2       |             |           | 39             | 152         | 5                |\n",
      "| San Marino             | 187        |          | 21          | +1        | 4              | 162         | 12               |\n",
      "| Hungary                | 187        | +20      | 9           | +1        | 21             | 157         | 6                |\n",
      "| Morocco                | 170        | +27      | 4           |           | 5              | 161         | 1                |\n",
      "| Bosnia and Herzegovina | 164        | +28      | 2           | +1        | 2              | 160         | 1                |\n",
      "| Andorra                | 164        | +31      | 1           |           | 1              | 162         | 7                |\n",
      "| Uruguay                | 162        |          |             |           |                | 162         | 3                |\n",
      "| Costa Rica             | 158        |          | 2           |           | 2              | 154         | 2                |\n",
      "| New Zealand            | 155        | +53      |             |           | 12             | 143         |                  |\n",
      "| North Macedonia        | 148        | +12      | 2           |           | 1              | 145         | 1                |\n",
      "| Vietnam                | 134        | +11      |             |           | 17             | 117         | 3                |\n",
      "| Jordan                 | 127        |          |             |           | 1              | 126         |                  |\n",
      "| Moldova                | 125        | +16      | 1           |           | 2              | 122         | 10               |\n",
      "| Albania                | 123        | +19      | 5           | +1        | 10             | 108         | 2                |\n",
      "| Faeroe Islands         | 122        | +4       |             |           | 23             | 99          |                  |\n",
      "| Cyprus                 | 116        |          | 3           | +2        | 3              | 110         | 3                |\n",
      "| Burkina Faso           | 114        | +15      | 4           |           | 7              | 103         |                  |\n",
      "| Tunisia                | 114        | +25      | 3           |           | 1              | 110         | 11               |\n",
      "| Malta                  | 110        | +3       |             |           | 2              | 108         | 1                |\n",
      "| Brunei                 | 104        | +13      |             |           | 2              | 102         | 2                |\n",
      "| Sri Lanka              | 102        | +5       |             |           | 2              | 100         | 2                |\n",
      "| Ukraine                | 97         | +24      | 3           |           | 1              | 93          |                  |\n",
      "| Cambodia               | 91         | +4       |             |           | 4              | 87          | 1                |\n",
      "| Azerbaijan             | 87         | +15      | 1           |           | 10             | 76          | 6                |\n",
      "| Senegal                | 86         | +7       |             |           | 8              | 78          |                  |\n",
      "| Oman                   | 84         | +18      |             |           | 17             | 67          |                  |\n",
      "| Venezuela              | 84         |          |             |           | 15             | 69          | 2                |\n",
      "| Belarus                | 81         |          |             |           | 22             | 59          |                  |\n",
      "| Réunion                | 75         | +4       |             |           | 1              | 74          |                  |\n",
      "| Afghanistan            | 74         | +34      | 1           |           | 1              | 72          |                  |\n",
      "| Georgia                | 70         | +9       |             |           | 9              | 61          | 1                |\n",
      "| Kazakhstan             | 68         | +6       |             |           |                | 68          |                  |\n",
      "| Cameroon               | 66         | +10      |             |           | 2              | 64          |                  |\n",
      "| Guadeloupe             | 62         |          | 1           |           |                | 61          | 4                |\n",
      "| Palestine              | 60         | +1       |             |           | 16             | 44          |                  |\n",
      "| Martinique             | 53         |          | 1           |           |                | 52          | 7                |\n",
      "| Trinidad and Tobago    | 53         | +2       |             |           |                | 53          |                  |\n",
      "| Ghana                  | 52         | +25      | 2           |           |                | 50          |                  |\n",
      "| Liechtenstein          | 51         |          |             |           |                | 51          |                  |\n",
      "| Uzbekistan             | 50         | +4       |             |           |                | 50          |                  |\n",
      "| Cuba                   | 48         | +8       | 1           |           |                | 47          | 2                |\n",
      "| DRC                    | 45         | +9       | 2           |           |                | 43          |                  |\n",
      "| Mauritius              | 42         | +6       | 2           |           |                | 40          | 1                |\n",
      "| Nigeria                | 42         | +2       | 1           |           | 2              | 39          |                  |\n",
      "| Kyrgyzstan             | 42         | +26      |             |           |                | 42          |                  |\n",
      "| Bangladesh             | 39         | +6       | 4           | +1        | 5              | 30          |                  |\n",
      "| Puerto Rico            | 39         | +8       | 2           |           | 1              | 36          |                  |\n",
      "| Channel Islands        | 36         |          |             |           |                | 36          |                  |\n",
      "| Mayotte                | 36         | +12      |             |           |                | 36          |                  |\n",
      "| Rwanda                 | 36         |          |             |           |                | 36          |                  |\n",
      "| Guam                   | 32         | +3       | 1           |           |                | 31          |                  |\n",
      "| Honduras               | 30         |          |             |           |                | 30          |                  |\n",
      "| Montenegro             | 29         | +2       | 1           |           |                | 28          |                  |\n",
      "| Macao                  | 28         | +3       |             |           | 10             | 18          |                  |\n",
      "| Bolivia                | 28         | +1       |             |           |                | 28          |                  |\n",
      "| Paraguay               | 27         | +5       | 2           | +1        |                | 25          | 1                |\n",
      "| Ivory Coast            | 25         |          |             |           | 2              | 23          |                  |\n",
      "| Kenya                  | 25         | +9       |             |           |                | 25          |                  |\n",
      "| Monaco                 | 23         |          |             |           | 1              | 22          |                  |\n",
      "| French Guiana          | 23         | +3       |             |           | 6              | 17          |                  |\n",
      "| French Polynesia       | 23         | +5       |             |           |                | 23          |                  |\n",
      "| Isle of Man            | 23         | +10      |             |           |                | 23          |                  |\n",
      "| Jamaica                | 21         | +2       | 1           |           | 2              | 18          |                  |\n",
      "| Guatemala              | 20         |          | 1           |           |                | 19          |                  |\n",
      "| Guyana                 | 20         |          | 1           |           |                | 19          |                  |\n",
      "| Togo                   | 20         | +2       |             |           | 1              | 19          |                  |\n",
      "| Barbados               | 17         |          |             |           |                | 17          |                  |\n",
      "| Madagascar             | 17         | +5       |             |           |                | 17          |                  |\n",
      "| U.S. Virgin Islands    | 17         |          |             |           |                | 17          |                  |\n",
      "| Gibraltar              | 15         |          |             |           | 5              | 10          |                  |\n",
      "| Maldives               | 13         |          |             |           | 5              | 8           |                  |\n",
      "| Aruba                  | 12         | +3       |             |           | 1              | 11          |                  |\n",
      "| Ethiopia               | 12         | +1       |             |           |                | 12          |                  |\n",
      "| Tanzania               | 12         |          |             |           |                | 12          |                  |\n",
      "| Mongolia               | 10         |          |             |           |                | 10          |                  |\n",
      "| New Caledonia          | 10         | +2       |             |           |                | 10          |                  |\n",
      "| Equatorial Guinea      | 9          |          |             |           |                | 9           |                  |\n",
      "| Uganda                 | 9          |          |             |           |                | 9           |                  |\n",
      "| Saint Martin           | 8          |          |             |           |                | 8           |                  |\n",
      "| Seychelles             | 7          |          |             |           |                | 7           |                  |\n",
      "| Gabon                  | 6          |          | 1           |           |                | 5           |                  |\n",
      "| Benin                  | 6          |          |             |           |                | 6           |                  |\n",
      "| Bermuda                | 6          |          |             |           |                | 6           |                  |\n",
      "| Haiti                  | 6          |          |             |           |                | 6           |                  |\n",
      "| Namibia                | 6          | +2       |             |           |                | 6           |                  |\n",
      "| Suriname               | 6          | +1       |             |           |                | 6           |                  |\n",
      "| Cayman Islands         | 5          |          | 1           |           |                | 4           |                  |\n",
      "| El Salvador            | 5          | +2       |             |           |                | 5           |                  |\n",
      "| Greenland              | 5          | +1       |             |           | 2              | 3           |                  |\n",
      "| Curaçao                | 4          |          | 1           |           |                | 3           |                  |\n",
      "| Bahamas                | 4          |          |             |           |                | 4           |                  |\n",
      "| Congo                  | 4          |          |             |           |                | 4           |                  |\n",
      "| Fiji                   | 4          | +1       |             |           |                | 4           |                  |\n",
      "| Guinea                 | 4          |          |             |           |                | 4           |                  |\n",
      "| Eswatini               | 4          |          |             |           |                | 4           |                  |\n",
      "| Cabo Verde             | 3          |          | 1           | +1        |                | 2           |                  |\n",
      "| Gambia                 | 3          | +1       | 1           |           |                | 2           |                  |\n",
      "| Sudan                  | 3          | +1       | 1           |           |                | 2           |                  |\n",
      "| Zimbabwe               | 3          |          | 1           |           |                | 2           |                  |\n",
      "| Angola                 | 3          |          |             |           |                | 3           |                  |\n",
      "| Antigua and Barbuda    | 3          |          |             |           |                | 3           |                  |\n",
      "| CAR                    | 3          |          |             |           |                | 3           |                  |\n",
      "| Chad                   | 3          | +1       |             |           |                | 3           |                  |\n",
      "| Djibouti               | 3          |          |             |           |                | 3           |                  |\n",
      "| Liberia                | 3          |          |             |           |                | 3           |                  |\n",
      "| Mozambique             | 3          | +2       |             |           |                | 3           |                  |\n",
      "| Niger                  | 3          |          |             |           |                | 3           |                  |\n",
      "| St. Barth              | 3          |          |             |           |                | 3           |                  |\n",
      "| Saint Lucia            | 3          |          |             |           |                | 3           |                  |\n",
      "| Zambia                 | 3          |          |             |           |                | 3           |                  |\n",
      "| Nepal                  | 2          |          |             |           | 1              | 1           |                  |\n",
      "| Bhutan                 | 2          |          |             |           |                | 2           |                  |\n",
      "| Dominica               | 2          |          |             |           |                | 2           |                  |\n",
      "| Laos                   | 2          | +2       |             |           |                | 2           |                  |\n",
      "| Mauritania             | 2          |          |             |           |                | 2           |                  |\n",
      "| Myanmar                | 2          |          |             |           |                | 2           |                  |\n",
      "| Nicaragua              | 2          |          |             |           |                | 2           |                  |\n",
      "| Sint Maarten           | 2          |          |             |           |                | 2           |                  |\n",
      "| Belize                 | 1          |          |             |           |                | 1           |                  |\n",
      "| Eritrea                | 1          |          |             |           |                | 1           |                  |\n",
      "| Grenada                | 1          |          |             |           |                | 1           |                  |\n",
      "| Vatican City           | 1          |          |             |           |                | 1           |                  |\n",
      "| Montserrat             | 1          |          |             |           |                | 1           |                  |\n",
      "| Papua New Guinea       | 1          |          |             |           |                | 1           |                  |\n",
      "| St. Vincent Grenadines | 1          |          |             |           |                | 1           |                  |\n",
      "| Somalia                | 1          |          |             |           |                | 1           |                  |\n",
      "| Syria                  | 1          |          |             |           |                | 1           |                  |\n",
      "| Timor-Leste            | 1          |          |             |           |                | 1           |                  |\n",
      "| Turks and Caicos       | 1          |          |             |           |                | 1           |                  |\n",
      "+------------------------+------------+----------+-------------+-----------+----------------+-------------+------------------+\n"
     ]
    }
   ],
   "source": [
    "table = AsciiTable(table_content)\n",
    "print(table.table)"
   ]
  },
  {
   "cell_type": "code",
   "execution_count": 12,
   "metadata": {},
   "outputs": [
    {
     "data": {
      "text/plain": [
       "['Country,Other',\n",
       " 'TotalCases',\n",
       " 'NewCases',\n",
       " 'TotalDeaths',\n",
       " 'NewDeaths',\n",
       " 'TotalRecovered',\n",
       " 'ActiveCases',\n",
       " 'Serious,Critical',\n",
       " 'Tot\\xa0Cases/1M pop',\n",
       " 'Tot\\xa0Deaths/1M pop']"
      ]
     },
     "execution_count": 12,
     "metadata": {},
     "output_type": "execute_result"
    }
   ],
   "source": [
    "table_heading"
   ]
  },
  {
   "cell_type": "code",
   "execution_count": null,
   "metadata": {},
   "outputs": [],
   "source": []
  },
  {
   "cell_type": "code",
   "execution_count": null,
   "metadata": {},
   "outputs": [],
   "source": []
  }
 ],
 "metadata": {
  "kernelspec": {
   "display_name": "Python 3",
   "language": "python",
   "name": "python3"
  },
  "language_info": {
   "codemirror_mode": {
    "name": "ipython",
    "version": 3
   },
   "file_extension": ".py",
   "mimetype": "text/x-python",
   "name": "python",
   "nbconvert_exporter": "python",
   "pygments_lexer": "ipython3",
   "version": "3.7.3"
  }
 },
 "nbformat": 4,
 "nbformat_minor": 2
}
